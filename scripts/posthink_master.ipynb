{
 "cells": [
  {
   "cell_type": "markdown",
   "id": "9a33482d",
   "metadata": {},
   "source": [
    "# posthink_master\n",
    "\n",
    "This project marks the end of my forskerlinje year and the beginning of my master thesis. The data is retrived from my FL-project. It consists of the answers to an open-end question participants provided after they were given an instruction to think as positively as possible when faced with an upcoming task. The question read: \"When faced with a challenge, how are you supposed to think?\" Our initial goal with this question was to check that participants acutally read the instruction, but as participants provided longer answers which highlighted how differently we percieve an instrcution to think positively, we wanted to use the answers as a basis for questions used in focus group interviews, which will be the first part of my master thesis. \n",
    "Therefore the goal of this analysis will be to understand how differently people percieve positive thinking, and which themes that are worth focusing on in a group discussion."
   ]
  },
  {
   "cell_type": "code",
   "execution_count": 1,
   "id": "975cb6f8",
   "metadata": {},
   "outputs": [],
   "source": [
    "import numpy as np\n",
    "import pandas as pd\n",
    "import matplotlib.pyplot as plt"
   ]
  },
  {
   "cell_type": "code",
   "execution_count": 2,
   "id": "b0a45476",
   "metadata": {},
   "outputs": [],
   "source": [
    "df_ma = pd.read_csv(\"/Users/marieprimdahl/Documents/Studie/Programmer/GitHub/posthink_master/data/Kun_gjenta_svar.csv\")\n",
    "pos_answer_list = list(df_ma[\"Default Report\"])"
   ]
  },
  {
   "cell_type": "code",
   "execution_count": 3,
   "id": "8cd7f97b",
   "metadata": {},
   "outputs": [],
   "source": [
    "# clean list, excluding distructions\n",
    "pos_answer = pos_answer_list[3:]"
   ]
  },
  {
   "cell_type": "markdown",
   "id": "2a8ceb1a",
   "metadata": {},
   "source": [
    "## relevant words\n",
    "Before starting this python project, I have used Excel to find words and themes that appears several times. I have also noted variations of words (for example \"positiv\" and \"positivt\"). \n",
    "\n",
    "Process in excel:\n",
    "1. Finding relevant themes by reading through every given answer\n",
    "2. Condensing themes that are similiar\n",
    "3. Coding every answer by theme (+1 when I think it fits the theme)\n",
    "\n",
    "Process in python:\n",
    "1. Writing for-loop code for each theme\n",
    "2. Going through answers in excel to see which variations for same words that has been used\n",
    "3. Adding all variations (including typos, ex. \"posetivt\") of words/themes to theme_list - used the total from excel step 3 to get an indications to whether I have captured most of themes or not\n",
    "\n",
    "In this next part I have made code to find how many times words appear. "
   ]
  },
  {
   "cell_type": "code",
   "execution_count": 4,
   "id": "92a2923b",
   "metadata": {},
   "outputs": [
    {
     "name": "stdout",
     "output_type": "stream",
     "text": [
      "The total time a variation of positiv is mentioned is: 76\n"
     ]
    }
   ],
   "source": [
    "# list with variation of the word \"positiv\":\n",
    "pos_list = [\"positiv\",\"positiv \",\" positiv\", \"positivt!\", \"positivt \", \" positivt\", \"positivt\", \"muligheter\", \"engasjement\", \"posetivt\", \"skal gå bra\"]\n",
    "\n",
    "# word_counts = {word: 0 for word in pos_list}\n",
    "pos_total_count = 0\n",
    "\n",
    "# loop through each string in the list\n",
    "for string in pos_answer:\n",
    "    # loop through each word in the list\n",
    "    for word in pos_list:\n",
    "        # count the number of times the word appears in the string\n",
    "        word_count = string.count(word)\n",
    "        pos_total_count += word_count\n",
    "\n",
    "print(\"The total time a variation of positiv is mentioned is:\", pos_total_count)"
   ]
  },
  {
   "cell_type": "code",
   "execution_count": 5,
   "id": "2429c1e1",
   "metadata": {},
   "outputs": [
    {
     "name": "stdout",
     "output_type": "stream",
     "text": [
      "The total time a variation of not-negatively is mentioned is: 5\n"
     ]
    }
   ],
   "source": [
    "# list with variation of the word \"not-negatively\":\n",
    "not_neg_list = [\"Ikke se hindringer\", \"ikke gjøre det vanskeligere\", \"negativladet tanke, la meg endre\", \"snu det til noe positivt\", \"Ikke overtenke\"]\n",
    "\n",
    "# word_counts = {word: 0 for word in not_neg_list}\n",
    "not_neg_total_count = 0\n",
    "\n",
    "# loop through each string in the list\n",
    "for string in pos_answer:\n",
    "    # loop through each word in the list\n",
    "    for word in not_neg_list:\n",
    "        # count the number of times the word appears in the string\n",
    "        word_count = string.count(word)\n",
    "        not_neg_total_count += word_count\n",
    "\n",
    "print(\"The total time a variation of not-negatively is mentioned is:\", not_neg_total_count)"
   ]
  },
  {
   "cell_type": "code",
   "execution_count": 6,
   "id": "bbf15adc",
   "metadata": {},
   "outputs": [
    {
     "name": "stdout",
     "output_type": "stream",
     "text": [
      "The total time a variation of negatively is mentioned is: 28\n"
     ]
    }
   ],
   "source": [
    "# list with variation of the word \"negativt\":\n",
    "neg_list = [\"motstand\", \"ikke ser løsningen\", \"vanskelig\", \"utfordring\", \"utfordrende\", \"problemet\"]\n",
    "\n",
    "# word_counts = {word: 0 for word in neg_list}\n",
    "neg_total_count = 0\n",
    "\n",
    "# loop through each string in the list\n",
    "for string in pos_answer:\n",
    "    # loop through each word in the list\n",
    "    for word in neg_list:\n",
    "        # count the number of times the word appears in the string\n",
    "        word_count = string.count(word)\n",
    "        neg_total_count += word_count\n",
    "\n",
    "print(\"The total time a variation of negatively is mentioned is:\", neg_total_count)"
   ]
  },
  {
   "cell_type": "code",
   "execution_count": 7,
   "id": "bd3dcfed",
   "metadata": {},
   "outputs": [
    {
     "name": "stdout",
     "output_type": "stream",
     "text": [
      "The total time a variation of thinking is mentioned is: 89\n"
     ]
    }
   ],
   "source": [
    "# a list with variation of the word \"thinking\":\n",
    "think_list = [\"tenk\", \"tenker\", \"logisk\", \"faktaene\", \"tenke\", \"strategisk\", \"fornuftig\", \"samse\", \"forstått\", \"systematisk\", \"*tenke\", \"*tenkende\", \"Innovativt\"]\n",
    "\n",
    "# word_counts = {word: 0 for word in think_list}\n",
    "think_total_count = 0\n",
    "\n",
    "# loop through each string in the list\n",
    "for string in pos_answer:\n",
    "    # loop through each word in the list\n",
    "    for word in think_list:\n",
    "        # count the number of times the word appears in the string\n",
    "        word_count = string.count(word)\n",
    "        think_total_count += word_count\n",
    "\n",
    "print(\"The total time a variation of thinking is mentioned is:\", think_total_count)"
   ]
  },
  {
   "cell_type": "code",
   "execution_count": 8,
   "id": "080179bb",
   "metadata": {},
   "outputs": [
    {
     "name": "stdout",
     "output_type": "stream",
     "text": [
      "The total time a variation of 'solution' is mentioned is: 123\n"
     ]
    }
   ],
   "source": [
    "# a list with variation of the word \"Solution\":\n",
    "sol_list = [\"løsning\", \"løse\", \"løsningsorientert\", \"løses\", \"løser\", \"løyse\", \"løsninger\"]\n",
    "\n",
    "# word_counts = {word: 0 for word in think_list}\n",
    "sol_total_count = 0\n",
    "\n",
    "# loop through each string in the list\n",
    "for string in pos_answer:\n",
    "    # loop through each word in the list\n",
    "    for word in sol_list:\n",
    "        # count the number of times the word appears in the string\n",
    "        word_count = string.count(word)\n",
    "        sol_total_count += word_count\n",
    "\n",
    "print(\"The total time a variation of 'solution' is mentioned is:\", sol_total_count)"
   ]
  },
  {
   "cell_type": "code",
   "execution_count": 9,
   "id": "c29a53b1",
   "metadata": {},
   "outputs": [
    {
     "name": "stdout",
     "output_type": "stream",
     "text": [
      "The total time a variation of 'solution' is mentioned is: 44\n"
     ]
    }
   ],
   "source": [
    "# a list with variation of the word \"Performance\":\n",
    "perf_list = [\"presetere\", \"best\", \"godt\", \"klare\"]\n",
    "\n",
    "# word_counts = {word: 0 for word in think_list}\n",
    "perf_total_count = 0\n",
    "\n",
    "# loop through each string in the list\n",
    "for string in pos_answer:\n",
    "    # loop through each word in the list\n",
    "    for word in perf_list:\n",
    "        # count the number of times the word appears in the string\n",
    "        word_count = string.count(word)\n",
    "        perf_total_count += word_count\n",
    "\n",
    "print(\"The total time a variation of 'solution' is mentioned is:\", perf_total_count)"
   ]
  },
  {
   "cell_type": "code",
   "execution_count": 10,
   "id": "e5695be4",
   "metadata": {},
   "outputs": [
    {
     "name": "stdout",
     "output_type": "stream",
     "text": [
      "The total time a variation of 'solution' is mentioned is: 47\n"
     ]
    }
   ],
   "source": [
    "# a list with variation of the word \"Openness\":\n",
    "open_list = [\"åpent\", \"Åpent\", \"Kreativt\", \"kreativt\", \"Særegent\", \"interesse\", \"utenfor boksen\", \"Utenfor boksen\", \"imøtekommende\", \"nyskjerrighet\", \"Open minded\", \"nysgjerrig\", \"mulighetene\", \"oversikt\", \"nye ideer\", \"Spennende!\", \"Nytenkende\", \"nytt\", \"Nytt\"]\n",
    "\n",
    "# word_counts = {word: 0 for word in think_list}\n",
    "open_total_count = 0\n",
    "\n",
    "# loop through each string in the list\n",
    "for string in pos_answer:\n",
    "    # loop through each word in the list\n",
    "    for word in open_list:\n",
    "        # count the number of times the word appears in the string\n",
    "        word_count = string.count(word)\n",
    "        open_total_count += word_count\n",
    "\n",
    "print(\"The total time a variation of 'solution' is mentioned is:\", open_total_count)"
   ]
  },
  {
   "cell_type": "code",
   "execution_count": 11,
   "id": "e28146a8",
   "metadata": {},
   "outputs": [
    {
     "name": "stdout",
     "output_type": "stream",
     "text": [
      "The total time a variation of 'solution' is mentioned is: 25\n"
     ]
    }
   ],
   "source": [
    "# a list with variation of the word \"Self-esteem\":\n",
    "self_list = [\"jeg klare\", \"klarer jeg\", \"fikser jeg\", \"jeg vil finne en løsning\", \"jeg mestrer\", \"klare jeg\", \"blir å klare\", \"klarer jeg!\", \"vi klare\", \"kommet seg gjennom før\", \"du klare\", \"jeg greier\", \"greier jeg\", \"få til\", \"får jeg til\"]\n",
    "\n",
    "# word_counts = {word: 0 for word in think_list}\n",
    "self_total_count = 0\n",
    "\n",
    "# loop through each string in the list\n",
    "for string in pos_answer:\n",
    "    # loop through each word in the list\n",
    "    for word in self_list:\n",
    "        # count the number of times the word appears in the string\n",
    "        word_count = string.count(word)\n",
    "        self_total_count += word_count\n",
    "\n",
    "print(\"The total time a variation of 'solution' is mentioned is:\", self_total_count)"
   ]
  },
  {
   "cell_type": "markdown",
   "id": "44a4640c",
   "metadata": {},
   "source": [
    "## Visualizing of results"
   ]
  },
  {
   "cell_type": "code",
   "execution_count": 12,
   "id": "10e1b553",
   "metadata": {},
   "outputs": [
    {
     "data": {
      "image/png": "[encoded data removed]",
      "text/plain": [
       "<Figure size 800x500 with 1 Axes>"
      ]
     },
     "metadata": {},
     "output_type": "display_data"
    }
   ],
   "source": [
    "# Create a bar chart for each word\n",
    "fig, ax = plt.subplots(figsize=(8, 5))\n",
    "plt.bar(['Pos','Not-Neg','Neg', 'Think', 'Sol', 'Perf', 'Open', 'Self'], [pos_total_count, not_neg_total_count, neg_total_count, think_total_count, sol_total_count, perf_total_count, open_total_count, self_total_count])\n",
    "plt.title('Prevalence of Words Used to Answer Positive Thinking')\n",
    "plt.xlabel('Words')\n",
    "plt.ylabel('Count')\n",
    "\n",
    "\n",
    "# Display the exact count above each bar\n",
    "for i, count in enumerate([pos_total_count, not_neg_total_count, neg_total_count, think_total_count, sol_total_count, perf_total_count, open_total_count, self_total_count]):\n",
    "    plt.text(i, count+1, str(count), ha='center', fontsize=12)\n",
    "\n",
    "plt.show()"
   ]
  }
 ],
 "metadata": {
  "kernelspec": {
   "display_name": "Python 3 (ipykernel)",
   "language": "python",
   "name": "python3"
  },
  "language_info": {
   "codemirror_mode": {
    "name": "ipython",
    "version": 3
   },
   "file_extension": ".py",
   "mimetype": "text/x-python",
   "name": "python",
   "nbconvert_exporter": "python",
   "pygments_lexer": "ipython3",
   "version": "3.9.13"
  }
 },
 "nbformat": 4,
 "nbformat_minor": 5
}
